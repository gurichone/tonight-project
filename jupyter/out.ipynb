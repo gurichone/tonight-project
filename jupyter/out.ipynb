{
 "cells": [
  {
   "cell_type": "code",
   "execution_count": 1,
   "metadata": {
    "execution": {
     "iopub.execute_input": "2024-10-16T00:57:22.282347Z",
     "iopub.status.busy": "2024-10-16T00:57:22.281794Z",
     "iopub.status.idle": "2024-10-16T00:57:22.294852Z",
     "shell.execute_reply": "2024-10-16T00:57:22.293747Z"
    }
   },
   "outputs": [
    {
     "name": "stdout",
     "output_type": "stream",
     "text": [
      "ああああああ\n"
     ]
    }
   ],
   "source": [
    "\n",
    "print(\"ああああああ\")"
   ]
  }
 ],
 "metadata": {
  "kernelspec": {
   "display_name": "Python 3",
   "language": "python",
   "name": "python3"
  },
  "language_info": {
   "codemirror_mode": {
    "name": "ipython",
    "version": 3
   },
   "file_extension": ".py",
   "mimetype": "text/x-python",
   "name": "python",
   "nbconvert_exporter": "python",
   "pygments_lexer": "ipython3",
   "version": "3.10.14"
  }
 },
 "nbformat": 4,
 "nbformat_minor": 2
}
