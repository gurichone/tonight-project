{
 "cells": [
  {
   "cell_type": "code",
   "execution_count": 1,
   "metadata": {
    "execution": {
     "iopub.execute_input": "2024-10-07T06:01:00.151458Z",
     "iopub.status.busy": "2024-10-07T06:01:00.151029Z",
     "iopub.status.idle": "2024-10-07T06:01:00.161386Z",
     "shell.execute_reply": "2024-10-07T06:01:00.160313Z"
    }
   },
   "outputs": [
    {
     "name": "stdout",
     "output_type": "stream",
     "text": [
      "入力した値が偶数か奇数か判定します\n",
      "数字を入力してください\n",
      "偶数です\n"
     ]
    }
   ],
   "source": [
    "\n",
    "# 数字で入力を受け取るための関数\n",
    "def inputNum():\n",
    "    print(\"数字を入力してください\")\n",
    "    while True:\n",
    "        try:\n",
    "            return int(\"7648\")\n",
    "        except:\n",
    "            print(\"数字で入力してください\")\n",
    "\n",
    "\n",
    "print(\"入力した値が偶数か奇数か判定します\")\n",
    "num = inputNum()\n",
    "# 偶奇判定\n",
    "if num % 2 == 0:\n",
    "    print(\"偶数です\")\n",
    "else:\n",
    "    print(\"奇数です\")\n"
   ]
  }
 ],
 "metadata": {
  "kernelspec": {
   "display_name": "Python 3",
   "language": "python",
   "name": "python3"
  },
  "language_info": {
   "codemirror_mode": {
    "name": "ipython",
    "version": 3
   },
   "file_extension": ".py",
   "mimetype": "text/x-python",
   "name": "python",
   "nbconvert_exporter": "python",
   "pygments_lexer": "ipython3",
   "version": "3.10.14"
  }
 },
 "nbformat": 4,
 "nbformat_minor": 2
}
